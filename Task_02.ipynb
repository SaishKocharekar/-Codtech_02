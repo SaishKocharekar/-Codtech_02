{
  "nbformat": 4,
  "nbformat_minor": 0,
  "metadata": {
    "colab": {
      "provenance": []
    },
    "kernelspec": {
      "name": "python3",
      "display_name": "Python 3"
    },
    "language_info": {
      "name": "python"
    }
  },
  "cells": [
    {
      "cell_type": "code",
      "execution_count": 1,
      "metadata": {
        "colab": {
          "base_uri": "https://localhost:8080/"
        },
        "id": "tSUwv9wQ_qih",
        "outputId": "2ce5eebc-fdfb-4fc0-bd21-a8379460dcf7"
      },
      "outputs": [
        {
          "output_type": "stream",
          "name": "stdout",
          "text": [
            "Collecting fpdf\n",
            "  Downloading fpdf-1.7.2.tar.gz (39 kB)\n",
            "  Preparing metadata (setup.py) ... \u001b[?25l\u001b[?25hdone\n",
            "Building wheels for collected packages: fpdf\n",
            "  Building wheel for fpdf (setup.py) ... \u001b[?25l\u001b[?25hdone\n",
            "  Created wheel for fpdf: filename=fpdf-1.7.2-py2.py3-none-any.whl size=40704 sha256=67424726a548b599ba0efe8f8c4c4ea948e36cdef07951a028b65e151972924f\n",
            "  Stored in directory: /root/.cache/pip/wheels/65/4f/66/bbda9866da446a72e206d6484cd97381cbc7859a7068541c36\n",
            "Successfully built fpdf\n",
            "Installing collected packages: fpdf\n",
            "Successfully installed fpdf-1.7.2\n"
          ]
        }
      ],
      "source": [
        " !pip install fpdf"
      ]
    },
    {
      "cell_type": "code",
      "source": [
        " import pandas as pd\n",
        "\n",
        " data = {\n",
        "    'Name': ['Alice', 'Bob', 'Charlie', 'David', 'Emma', 'Frank', 'Grace', 'Helen', 'Ian', 'Julia'],\n",
        "    'Age': [24, 30, 22, 35, 28, 27, 23, 32, 26, 29],\n",
        "    'Score': [88, 75, 90, 60, 95, 70, 85, 78, 82, 91]\n",
        "}\n",
        "\n",
        " df = pd.DataFrame(data)\n",
        " df.to_csv(\"sample_data.csv\", index=False)\n",
        "\n",
        " print(\"✅ sample_data.csv created!\")\n"
      ],
      "metadata": {
        "colab": {
          "base_uri": "https://localhost:8080/"
        },
        "id": "Nsnsuya9Ae8N",
        "outputId": "d0f2e3fd-bf2b-42ad-a330-599abe95fd7f"
      },
      "execution_count": 9,
      "outputs": [
        {
          "output_type": "stream",
          "name": "stdout",
          "text": [
            "✅ sample_data.csv created!\n"
          ]
        }
      ]
    },
    {
      "cell_type": "code",
      "source": [
        " from fpdf import FPDF\n",
        " from datetime import datetime\n",
        "\n",
        "\n",
        " df = pd.DataFrame(data)\n",
        " df.to_csv(\"sample_data.csv\", index=False)\n",
        "\n",
        "# Step 2: Read and analyze the data\n",
        " df = pd.read_csv(\"sample_data.csv\")\n",
        "\n",
        " average_age = df['Age'].mean()\n",
        " average_score = df['Score'].mean()\n",
        " max_score = df['Score'].max()\n",
        " min_score = df['Score'].min()\n",
        "\n",
        "# Step 3: Generate PDF Report\n",
        "class PDFReport(FPDF):\n",
        "    def header(self):\n",
        "        self.set_font('Arial', 'B', 16)\n",
        "        self.cell(0, 10, 'Data Analysis Report', ln=True, align='C')\n",
        "        self.ln(10)\n",
        "\n",
        "    def footer(self):\n",
        "        self.set_y(-15)\n",
        "        self.set_font('Arial', 'I', 8)\n",
        "        self.cell(0, 10, f'Page {self.page_no()}', align='C')\n",
        "\n",
        "    def add_body(self, df):\n",
        "        self.set_font(\"Arial\", size=12)\n",
        "        self.cell(0, 10, f'Report generated on: {datetime.now()}', ln=True)\n",
        "        self.ln(10)\n",
        "\n",
        "        self.cell(0, 10, f\"Average Age: {average_age:.2f}\", ln=True)\n",
        "        self.cell(0, 10, f\"Average Score: {average_score:.2f}\", ln=True)\n",
        "        self.cell(0, 10, f\"Max Score: {max_score}\", ln=True)\n",
        "        self.cell(0, 10, f\"Min Score: {min_score}\", ln=True)\n",
        "        self.ln(10)\n",
        "\n",
        "        self.cell(0, 10, \"Data Table:\", ln=True)\n",
        "        self.ln(5)\n",
        "\n",
        "        # Table header\n",
        "        self.set_fill_color(200, 220, 255)\n",
        "        self.cell(50, 10, \"Name\", 1, 0, 'C', 1)\n",
        "        self.cell(30, 10, \"Age\", 1, 0, 'C', 1)\n",
        "        self.cell(30, 10, \"Score\", 1, 1, 'C', 1)\n",
        "\n",
        "        # Table content\n",
        "        for _, row in df.iterrows():\n",
        "            self.cell(50, 10, row['Name'], 1)\n",
        "            self.cell(30, 10, str(row['Age']), 1)\n",
        "            self.cell(30, 10, str(row['Score']), 1, 1)\n",
        "\n",
        "# Create and save PDF\n",
        "pdf = PDFReport()\n",
        "pdf.add_page()\n",
        "pdf.add_body(df)\n",
        "pdf.output(\"Data_Report.pdf\")\n",
        "\n",
        "print(\"✅ PDF Report Generated: Data_Report.pdf\")\n"
      ],
      "metadata": {
        "colab": {
          "base_uri": "https://localhost:8080/"
        },
        "id": "xrv50NgkAAwT",
        "outputId": "47a31cdf-c9ed-4f1e-dcfd-07da7ce0215b"
      },
      "execution_count": 10,
      "outputs": [
        {
          "output_type": "stream",
          "name": "stdout",
          "text": [
            "✅ PDF Report Generated: Data_Report.pdf\n"
          ]
        }
      ]
    },
    {
      "cell_type": "code",
      "source": [
        "from google.colab import files\n",
        "files.download(\"Data_Report.pdf\")\n",
        "\n",
        "print(\"✅ PDF Report Downloaded!\")\n"
      ],
      "metadata": {
        "colab": {
          "base_uri": "https://localhost:8080/",
          "height": 34
        },
        "id": "XYUKKJKkBFux",
        "outputId": "f42712ab-5967-49fa-cfbc-4b0085128e2c"
      },
      "execution_count": 11,
      "outputs": [
        {
          "output_type": "display_data",
          "data": {
            "text/plain": [
              "<IPython.core.display.Javascript object>"
            ],
            "application/javascript": [
              "\n",
              "    async function download(id, filename, size) {\n",
              "      if (!google.colab.kernel.accessAllowed) {\n",
              "        return;\n",
              "      }\n",
              "      const div = document.createElement('div');\n",
              "      const label = document.createElement('label');\n",
              "      label.textContent = `Downloading \"${filename}\": `;\n",
              "      div.appendChild(label);\n",
              "      const progress = document.createElement('progress');\n",
              "      progress.max = size;\n",
              "      div.appendChild(progress);\n",
              "      document.body.appendChild(div);\n",
              "\n",
              "      const buffers = [];\n",
              "      let downloaded = 0;\n",
              "\n",
              "      const channel = await google.colab.kernel.comms.open(id);\n",
              "      // Send a message to notify the kernel that we're ready.\n",
              "      channel.send({})\n",
              "\n",
              "      for await (const message of channel.messages) {\n",
              "        // Send a message to notify the kernel that we're ready.\n",
              "        channel.send({})\n",
              "        if (message.buffers) {\n",
              "          for (const buffer of message.buffers) {\n",
              "            buffers.push(buffer);\n",
              "            downloaded += buffer.byteLength;\n",
              "            progress.value = downloaded;\n",
              "          }\n",
              "        }\n",
              "      }\n",
              "      const blob = new Blob(buffers, {type: 'application/binary'});\n",
              "      const a = document.createElement('a');\n",
              "      a.href = window.URL.createObjectURL(blob);\n",
              "      a.download = filename;\n",
              "      div.appendChild(a);\n",
              "      a.click();\n",
              "      div.remove();\n",
              "    }\n",
              "  "
            ]
          },
          "metadata": {}
        },
        {
          "output_type": "display_data",
          "data": {
            "text/plain": [
              "<IPython.core.display.Javascript object>"
            ],
            "application/javascript": [
              "download(\"download_b22d3c35-5a3e-41cf-9de0-5d749589c7da\", \"Data_Report.pdf\", 1833)"
            ]
          },
          "metadata": {}
        },
        {
          "output_type": "stream",
          "name": "stdout",
          "text": [
            "✅ PDF Report Downloaded!\n"
          ]
        }
      ]
    }
  ]
}